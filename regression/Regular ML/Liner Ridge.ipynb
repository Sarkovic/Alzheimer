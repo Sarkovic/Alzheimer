{
 "cells": [
  {
   "cell_type": "code",
   "execution_count": 1,
   "metadata": {},
   "outputs": [],
   "source": [
    "import numpy as np\n",
    "import pandas as pd\n",
    "import seaborn as sns\n",
    "from pprint import pprint\n",
    "from sklearn.model_selection import GridSearchCV\n",
    "from sklearn.ensemble import RandomForestClassifier\n",
    "from sklearn.model_selection import RandomizedSearchCV\n",
    "from sklearn.model_selection import cross_val_predict\n",
    "import matplotlib.pyplot as plt\n",
    "from sklearn.model_selection import cross_val_score\n",
    "from sklearn.model_selection import train_test_split\n",
    "from sklearn.linear_model import Ridge\n",
    "from sklearn.model_selection import KFold\n",
    "from sklearn.feature_selection import SelectFromModel\n",
    "from sklearn import metrics \n",
    "from sklearn.metrics import mean_squared_error,r2_score\n",
    "from sklearn.model_selection import train_test_split\n",
    "from sklearn.model_selection import cross_val_score\n",
    "from sklearn.metrics import mean_absolute_error\n",
    "from sklearn.tree import DecisionTreeRegressor\n",
    "from sklearn.ensemble import RandomForestRegressor\n",
    "from sklearn.svm import SVR"
   ]
  },
  {
   "cell_type": "code",
   "execution_count": 2,
   "metadata": {},
   "outputs": [
    {
     "data": {
      "text/plain": [
       "Index(['RID', 'ABETA', 'AGE', 'APOE4', 'BCCRYING', 'BCDPMOOD', 'BCENERGY',\n",
       "       'BCINSOMN', 'BMI', 'CTWHITE', 'TAU', 'FHQMOMAD', 'MHPSYCH', 'PTAU',\n",
       "       'PTEDUCAT', 'DX_Month', 'ADAS 11', 'ADAS 13', 'CDGLOBAL', 'CDRSB',\n",
       "       'FAQTOTAL', 'GDTOTAL', 'MMSCORE', 'MOCA', 'NPISCORE', 'ST29SV',\n",
       "       'ST24CV', 'ST83TA', 'ST85TA', 'ST26TA', 'ST89SV', 'ST12SV', 'ST103CV',\n",
       "       'ST88SV', 'ST83CV', 'ST71SV', 'ST40CV', 'ST24TA', 'ST58TA', 'ST30SV',\n",
       "       'ST117TA', 'ST26CV', 'ST40TA', 'ST103TA', 'ST99CV', 'ST91TA', 'ST32TA',\n",
       "       'ST130TA', 'ST44CV', 'ST85CV', 'ST99TA', 'ST60CV', 'ST85TA.1',\n",
       "       'LDELTOTAL', 'AVTOT6', 'ADNI_MEM', 'RAVLT_learning', 'AVDEL30MIN',\n",
       "       'AVTOT5', 'EcogspMem', 'EcogspDivatt', 'AVDELTOT',\n",
       "       'RAVLT_perc_forgetting', 'EcogspTotal', 'AVTOT4', 'RAVLT_immediate',\n",
       "       'CATANPERS', 'AVTOT3', 'EcogspPlan', 'EcogspVisspat', 'EcogspOrgan',\n",
       "       'AVTOT2', 'CATANIMSC', 'EcogptMem', 'EcogspLang', 'RAVLT_forgetting',\n",
       "       'EcogptTotal'],\n",
       "      dtype='object')"
      ]
     },
     "execution_count": 2,
     "metadata": {},
     "output_type": "execute_result"
    }
   ],
   "source": [
    "df= pd.read_csv(\"full_dataset_Filter_method.csv\")\n",
    "df.columns"
   ]
  },
  {
   "cell_type": "code",
   "execution_count": 3,
   "metadata": {},
   "outputs": [],
   "source": [
    "y=df.DX_Month                           "
   ]
  },
  {
   "cell_type": "code",
   "execution_count": 4,
   "metadata": {},
   "outputs": [],
   "source": [
    "x= df.drop(['RID','DX_Month'],axis = 1 )"
   ]
  },
  {
   "cell_type": "code",
   "execution_count": 5,
   "metadata": {},
   "outputs": [],
   "source": [
    "from sklearn.preprocessing import MinMaxScaler\n",
    "scaler = MinMaxScaler(feature_range=(0, 1))\n",
    "scaler = scaler.fit(x)\n",
    "x = scaler.transform(x)\n",
    "scaler1 = MinMaxScaler(feature_range=(0, 1))\n",
    "y = scaler1.fit_transform(pd.DataFrame(y))"
   ]
  },
  {
   "cell_type": "code",
   "execution_count": 6,
   "metadata": {},
   "outputs": [
    {
     "name": "stdout",
     "output_type": "stream",
     "text": [
      "Linear Ridge\n",
      "Fitting 10 folds for each of 2 candidates, totalling 20 fits\n"
     ]
    },
    {
     "data": {
      "text/plain": [
       "GridSearchCV(cv=10, estimator=Ridge(), n_jobs=10, param_grid={'alpha': [1, 10]},\n",
       "             verbose=2)"
      ]
     },
     "execution_count": 6,
     "metadata": {},
     "output_type": "execute_result"
    }
   ],
   "source": [
    "from sklearn.model_selection import GridSearchCV\n",
    "param_grid =  {'alpha':[1, 10]}\n",
    "print(\"Linear Ridge\")\n",
    "rf =  Ridge()\n",
    "grid_search = GridSearchCV(estimator = rf, param_grid = param_grid, \n",
    "                          cv = 10, n_jobs = 10, verbose = 2)\n",
    "grid_search.fit(x, y)"
   ]
  },
  {
   "cell_type": "code",
   "execution_count": 7,
   "metadata": {},
   "outputs": [
    {
     "data": {
      "text/plain": [
       "Ridge(alpha=10)"
      ]
     },
     "execution_count": 7,
     "metadata": {},
     "output_type": "execute_result"
    }
   ],
   "source": [
    "best_grid = grid_search.best_estimator_\n",
    "best_grid "
   ]
  },
  {
   "cell_type": "code",
   "execution_count": 8,
   "metadata": {},
   "outputs": [],
   "source": [
    "RMSE=[]\n",
    "msr=[]\n",
    "bsr=[]\n",
    "for i in range(0,10):\n",
    "    X_train, X_test, y_train, y_test = train_test_split(x, y, test_size=0.10, stratify= y, shuffle=True,random_state=None) \n",
    "    model= best_grid.fit(X_train, y_train)\n",
    "    y_pred = model.predict(X_test)\n",
    "    RMSE.append(np.sqrt(metrics.mean_squared_error(y_test,y_pred)))\n",
    "    msr.append(metrics.mean_squared_error(y_test,y_pred))\n",
    "    bsr.append(metrics.mean_absolute_error(y_test,y_pred))"
   ]
  },
  {
   "cell_type": "code",
   "execution_count": 9,
   "metadata": {},
   "outputs": [
    {
     "data": {
      "text/html": [
       "<div>\n",
       "<style scoped>\n",
       "    .dataframe tbody tr th:only-of-type {\n",
       "        vertical-align: middle;\n",
       "    }\n",
       "\n",
       "    .dataframe tbody tr th {\n",
       "        vertical-align: top;\n",
       "    }\n",
       "\n",
       "    .dataframe thead th {\n",
       "        text-align: right;\n",
       "    }\n",
       "</style>\n",
       "<table border=\"1\" class=\"dataframe\">\n",
       "  <thead>\n",
       "    <tr style=\"text-align: right;\">\n",
       "      <th></th>\n",
       "      <th>MBR</th>\n",
       "      <th>MSR</th>\n",
       "      <th>RMSE</th>\n",
       "    </tr>\n",
       "  </thead>\n",
       "  <tbody>\n",
       "    <tr>\n",
       "      <th>0</th>\n",
       "      <td>0.151915</td>\n",
       "      <td>0.059123</td>\n",
       "      <td>0.243077</td>\n",
       "    </tr>\n",
       "  </tbody>\n",
       "</table>\n",
       "</div>"
      ],
      "text/plain": [
       "        MBR       MSR      RMSE\n",
       "0  0.151915  0.059123  0.243077"
      ]
     },
     "execution_count": 9,
     "metadata": {},
     "output_type": "execute_result"
    }
   ],
   "source": [
    "data = pd.DataFrame([])\n",
    "data = data.append({'MSR':np.mean(msr),'MBR':np.mean(bsr),  'RMSE' : np.mean(RMSE)} , ignore_index=True)\n",
    "data.to_csv(\"result\\defult_split\\LinearRidge.csv\")\n",
    "data"
   ]
  }
 ],
 "metadata": {
  "kernelspec": {
   "display_name": "Python 3",
   "language": "python",
   "name": "python3"
  },
  "language_info": {
   "codemirror_mode": {
    "name": "ipython",
    "version": 3
   },
   "file_extension": ".py",
   "mimetype": "text/x-python",
   "name": "python",
   "nbconvert_exporter": "python",
   "pygments_lexer": "ipython3",
   "version": "3.8.5"
  }
 },
 "nbformat": 4,
 "nbformat_minor": 2
}
