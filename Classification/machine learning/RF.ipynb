{
 "cells": [
  {
   "cell_type": "code",
   "execution_count": 13,
   "metadata": {},
   "outputs": [],
   "source": [
    "from pprint import pprint\n",
    "import numpy as np\n",
    "import pandas as pd\n",
    "from sklearn.model_selection import GridSearchCV\n",
    "from sklearn.ensemble import RandomForestClassifier\n",
    "from sklearn.model_selection import cross_val_predict\n",
    "import matplotlib.pyplot as plt\n",
    "from sklearn.model_selection import cross_val_score\n",
    "from sklearn.model_selection import train_test_split\n",
    "from imblearn.over_sampling import SMOTE\n",
    "from sklearn.model_selection import KFold\n",
    "from sklearn.linear_model import LogisticRegression\n",
    "from sklearn.tree import DecisionTreeClassifier\n",
    "from sklearn.neighbors import KNeighborsClassifier\n",
    "from sklearn.naive_bayes import GaussianNB\n",
    "from sklearn.svm import SVC\n",
    "import seaborn as sns\n",
    "from sklearn.metrics import accuracy_score, precision_score, f1_score ,recall_score\n",
    "from sklearn.model_selection import StratifiedKFold\n",
    "from sklearn.preprocessing import MinMaxScaler\n",
    "from multiscorer import MultiScorer\n",
    "from numpy import average\n"
   ]
  },
  {
   "cell_type": "code",
   "execution_count": 14,
   "metadata": {},
   "outputs": [
    {
     "data": {
      "text/plain": [
       "Index(['RID', 'DX', 'ABETA', 'AGE', 'APOE4', 'BCCRYING', 'BCDPMOOD',\n",
       "       'BCENERGY', 'BCINSOMN', 'BMI',\n",
       "       ...\n",
       "       'ST32TA', 'ST91CV', 'ST91SA', 'ST91TA', 'ST129CV', 'ST129SA', 'ST129TA',\n",
       "       'ST130CV', 'ST130SA', 'ST130TA'],\n",
       "      dtype='object', length=134)"
      ]
     },
     "execution_count": 14,
     "metadata": {},
     "output_type": "execute_result"
    }
   ],
   "source": [
    "df= pd.read_csv(\"Full_features_Regular_Four_classes.csv\")\n",
    "df.columns"
   ]
  },
  {
   "cell_type": "code",
   "execution_count": 15,
   "metadata": {
    "scrolled": true
   },
   "outputs": [],
   "source": [
    "test= pd.read_csv(\"DX_test_four_classes.csv\")\n",
    "test1=pd.merge(df, test, on='RID', how='inner')\n",
    "test1=test1.drop('RID',axis = 1 )\n",
    "y_test = test1.DX                           \n",
    "X_test= test1.drop('DX',axis = 1 )\n",
    "for j in range(0,len(test)):\n",
    "    df=df[df.RID!=test['RID'][j]]"
   ]
  },
  {
   "cell_type": "code",
   "execution_count": 16,
   "metadata": {},
   "outputs": [
    {
     "name": "stdout",
     "output_type": "stream",
     "text": [
      "sMCI    425\n",
      "CN      377\n",
      "AD      305\n",
      "pMCI    126\n",
      "Name: DX, dtype: int64\n"
     ]
    }
   ],
   "source": [
    "df=df.drop('RID',axis = 1 )\n",
    "y_train = df.DX                           \n",
    "X_train= df.drop('DX',axis = 1 )\n",
    "print(df['DX'].value_counts())"
   ]
  },
  {
   "cell_type": "code",
   "execution_count": 17,
   "metadata": {},
   "outputs": [],
   "source": [
    "scaler = MinMaxScaler(feature_range=(0, 1))\n",
    "scaler1 = MinMaxScaler(feature_range=(0, 1))\n",
    "scaler2 = MinMaxScaler(feature_range=(0, 1))\n",
    "scaler3 = MinMaxScaler(feature_range=(0, 1))\n",
    "scaler = scaler.fit(X_train)\n",
    "X_train = scaler.transform(X_train)\n",
    "X_test = scaler1.fit_transform(X_test)"
   ]
  },
  {
   "cell_type": "code",
   "execution_count": 18,
   "metadata": {},
   "outputs": [],
   "source": [
    "SFold = StratifiedKFold(n_splits=10, random_state=30, shuffle=True)"
   ]
  },
  {
   "cell_type": "code",
   "execution_count": 19,
   "metadata": {},
   "outputs": [
    {
     "name": "stdout",
     "output_type": "stream",
     "text": [
      " Random Forest Classifier\n"
     ]
    },
    {
     "data": {
      "text/plain": [
       "RandomForestClassifier(max_depth=11)"
      ]
     },
     "execution_count": 19,
     "metadata": {},
     "output_type": "execute_result"
    }
   ],
   "source": [
    "param_grid = {\n",
    " \n",
    "    'max_depth': [1,2,3,4,5,6,7,8,9,10,11,12,13,14,15, 16,17,18],\n",
    "    \n",
    "    'criterion': ['gini', 'entropy'],\n",
    "  } \n",
    "\n",
    "grid_search = GridSearchCV(estimator = RandomForestClassifier(), param_grid = param_grid, cv = SFold)\n",
    "grid_search.fit(X_train, y_train)\n",
    "\n",
    "print(\" Random Forest Classifier\")\n",
    "grid_search.best_params_\n",
    "best_model = grid_search.best_estimator_\n",
    "best_model"
   ]
  },
  {
   "cell_type": "code",
   "execution_count": 20,
   "metadata": {},
   "outputs": [],
   "source": [
    "my_dict_Train={\"Accuracy_Train\": [],\"Precision_Train\": [],\"Recall_Train\": [], \"F1_score_Train\":[]};\n",
    "my_dict_STD={\"Accuracy_Train\": [],\"Precision_Train\": [],\"Recall_Train\": [], \"F1_score_Train\":[]};\n",
    "my_dict_Test={\"Accuracy_Test\": [],\"Precision_Test\": [],\"Recall_Test\": [], \"F1_score_Test\":[]};\n"
   ]
  },
  {
   "cell_type": "code",
   "execution_count": 21,
   "metadata": {},
   "outputs": [],
   "source": [
    "scorer = MultiScorer({                                               \n",
    "  'Accuracy_Train': (accuracy_score, {}),\n",
    "  'Precision_Train': (precision_score, {'average': 'weighted'}) , \n",
    "  'Recall_Train': (recall_score, {'average': 'weighted'}),\n",
    "  'F1_score_Train': (f1_score, {'average': 'weighted'})\n",
    "})\n"
   ]
  },
  {
   "cell_type": "code",
   "execution_count": 22,
   "metadata": {},
   "outputs": [
    {
     "name": "stderr",
     "output_type": "stream",
     "text": [
      "C:\\Users\\hager\\anaconda3\\envs\\hager\\lib\\site-packages\\sklearn\\metrics\\_classification.py:1245: UndefinedMetricWarning: Precision is ill-defined and being set to 0.0 in labels with no predicted samples. Use `zero_division` parameter to control this behavior.\n",
      "  _warn_prf(average, modifier, msg_start, len(result))\n",
      "C:\\Users\\hager\\anaconda3\\envs\\hager\\lib\\site-packages\\sklearn\\metrics\\_classification.py:1245: UndefinedMetricWarning: Precision is ill-defined and being set to 0.0 in labels with no predicted samples. Use `zero_division` parameter to control this behavior.\n",
      "  _warn_prf(average, modifier, msg_start, len(result))\n",
      "C:\\Users\\hager\\anaconda3\\envs\\hager\\lib\\site-packages\\sklearn\\metrics\\_classification.py:1245: UndefinedMetricWarning: Precision is ill-defined and being set to 0.0 in labels with no predicted samples. Use `zero_division` parameter to control this behavior.\n",
      "  _warn_prf(average, modifier, msg_start, len(result))\n",
      "C:\\Users\\hager\\anaconda3\\envs\\hager\\lib\\site-packages\\sklearn\\metrics\\_classification.py:1245: UndefinedMetricWarning: Precision is ill-defined and being set to 0.0 in labels with no predicted samples. Use `zero_division` parameter to control this behavior.\n",
      "  _warn_prf(average, modifier, msg_start, len(result))\n",
      "C:\\Users\\hager\\anaconda3\\envs\\hager\\lib\\site-packages\\sklearn\\metrics\\_classification.py:1245: UndefinedMetricWarning: Precision is ill-defined and being set to 0.0 in labels with no predicted samples. Use `zero_division` parameter to control this behavior.\n",
      "  _warn_prf(average, modifier, msg_start, len(result))\n"
     ]
    }
   ],
   "source": [
    "r=0\n",
    "for i in range(0,10):\n",
    "   \n",
    "\n",
    "    from sklearn.model_selection import StratifiedKFold\n",
    "    if i==0:\n",
    "        r=70\n",
    "    elif i== 1:\n",
    "        r=80\n",
    "    elif i== 2:\n",
    "        r=90\n",
    "    elif i== 3:\n",
    "        r=100\n",
    "    elif i== 4:\n",
    "        r=130\n",
    "    elif i==5:\n",
    "        r=120\n",
    "    SFold = StratifiedKFold(n_splits=10,  shuffle=True,random_state=r)\n",
    "    cross_val_score(best_model, X_train, y_train, scoring=scorer, cv=SFold)              \n",
    "\n",
    "    results = scorer.get_results()                                     \n",
    "\n",
    "    for metric in results.keys():                                      \n",
    "        my_dict_Train[metric].append(round(average(results[metric]),2)*100)\n",
    "        my_dict_STD[metric].append(round(np.std(results[metric]),2)*100)\n",
    "    y_pred = cross_val_predict(best_model, X_test, y_test, cv=SFold )             \n",
    "    my_dict_Test[\"Accuracy_Test\"].append(round(100*accuracy_score(y_test,y_pred), 2))\n",
    "    my_dict_Test[\"Precision_Test\"].append(round(100*precision_score(y_test, y_pred, average='weighted'), 2))\n",
    "    my_dict_Test[\"Recall_Test\"].append(round(100*recall_score(y_test, y_pred, average='weighted'), 2))\n",
    "    my_dict_Test[\"F1_score_Test\"].append(round(100*f1_score(y_test, y_pred, average='weighted') , 2))"
   ]
  },
  {
   "cell_type": "code",
   "execution_count": 23,
   "metadata": {},
   "outputs": [
    {
     "name": "stdout",
     "output_type": "stream",
     "text": [
      "Accuracy_Train: 84.000\n",
      "Accuracy_Train_STD: 2.500\n",
      "Precision_Train: 81.900\n",
      "Precision_Train_STD: 4.000\n",
      "Recall_Train: 84.000\n",
      "Recall_Train_STD: 2.500\n",
      "F1_score_Train: 81.700\n",
      "F1_score_Train_STD: 2.600\n"
     ]
    }
   ],
   "source": [
    "for metric in my_dict_Train.keys():\n",
    "    print(\"%s: %.3f\" % (metric, average(my_dict_Train[metric])))\n",
    "    print(\"%s: %.3f\" % (metric+\"_STD\", average(my_dict_STD[metric])))"
   ]
  },
  {
   "cell_type": "code",
   "execution_count": 24,
   "metadata": {},
   "outputs": [
    {
     "name": "stdout",
     "output_type": "stream",
     "text": [
      "Accuracy_Test: 81.015\n",
      "Precision_Test: 74.749\n",
      "Recall_Test: 81.015\n",
      "F1_score_Test: 77.428\n"
     ]
    }
   ],
   "source": [
    "for metric in my_dict_Test.keys():\n",
    "    print(\"%s: %.3f\" % (metric, average(my_dict_Test[metric])))"
   ]
  },
  {
   "cell_type": "code",
   "execution_count": null,
   "metadata": {},
   "outputs": [],
   "source": []
  }
 ],
 "metadata": {
  "kernelspec": {
   "display_name": "Python 3",
   "language": "python",
   "name": "python3"
  },
  "language_info": {
   "codemirror_mode": {
    "name": "ipython",
    "version": 3
   },
   "file_extension": ".py",
   "mimetype": "text/x-python",
   "name": "python",
   "nbconvert_exporter": "python",
   "pygments_lexer": "ipython3",
   "version": "3.8.5"
  }
 },
 "nbformat": 4,
 "nbformat_minor": 2
}
